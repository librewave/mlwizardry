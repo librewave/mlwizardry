{
  "nbformat": 4,
  "nbformat_minor": 0,
  "metadata": {
    "colab": {
      "provenance": [],
      "gpuType": "T4",
      "authorship_tag": "ABX9TyN+lutixTgbRuh/xh5hnHiF",
      "include_colab_link": true
    },
    "kernelspec": {
      "name": "python3",
      "display_name": "Python 3"
    },
    "language_info": {
      "name": "python"
    },
    "accelerator": "GPU",
    "gpuClass": "standard"
  },
  "cells": [
    {
      "cell_type": "markdown",
      "metadata": {
        "id": "view-in-github",
        "colab_type": "text"
      },
      "source": [
        "<a href=\"https://colab.research.google.com/github/librewave/mlwizardry/blob/main/ipynb/whisper.ipynb\" target=\"_parent\"><img src=\"https://colab.research.google.com/assets/colab-badge.svg\" alt=\"Open In Colab\"/></a>"
      ]
    },
    {
      "cell_type": "code",
      "source": [
        "!pip install git+https://github.com/openai/whisper.git"
      ],
      "metadata": {
        "colab": {
          "base_uri": "https://localhost:8080/"
        },
        "id": "9yjTP7kNRPy9",
        "outputId": "dac768fb-d776-49bc-c810-7f40463718ad"
      },
      "execution_count": 1,
      "outputs": [
        {
          "output_type": "stream",
          "name": "stdout",
          "text": [
            "Looking in indexes: https://pypi.org/simple, https://us-python.pkg.dev/colab-wheels/public/simple/\n",
            "Collecting git+https://github.com/openai/whisper.git\n",
            "  Cloning https://github.com/openai/whisper.git to /tmp/pip-req-build-2k22q52r\n",
            "  Running command git clone --filter=blob:none --quiet https://github.com/openai/whisper.git /tmp/pip-req-build-2k22q52r\n",
            "  Resolved https://github.com/openai/whisper.git to commit b5851c6c40e753606765ac45b85b298e3ae9e00d\n",
            "  Installing build dependencies ... \u001b[?25l\u001b[?25hdone\n",
            "  Getting requirements to build wheel ... \u001b[?25l\u001b[?25hdone\n",
            "  Preparing metadata (pyproject.toml) ... \u001b[?25l\u001b[?25hdone\n",
            "Requirement already satisfied: tqdm in /usr/local/lib/python3.9/dist-packages (from openai-whisper==20230314) (4.65.0)\n",
            "Requirement already satisfied: numpy in /usr/local/lib/python3.9/dist-packages (from openai-whisper==20230314) (1.22.4)\n",
            "Collecting ffmpeg-python==0.2.0\n",
            "  Downloading ffmpeg_python-0.2.0-py3-none-any.whl (25 kB)\n",
            "Requirement already satisfied: numba in /usr/local/lib/python3.9/dist-packages (from openai-whisper==20230314) (0.56.4)\n",
            "Requirement already satisfied: triton==2.0.0 in /usr/local/lib/python3.9/dist-packages (from openai-whisper==20230314) (2.0.0)\n",
            "Requirement already satisfied: more-itertools in /usr/local/lib/python3.9/dist-packages (from openai-whisper==20230314) (9.1.0)\n",
            "Requirement already satisfied: torch in /usr/local/lib/python3.9/dist-packages (from openai-whisper==20230314) (2.0.0+cu118)\n",
            "Collecting tiktoken==0.3.1\n",
            "  Downloading tiktoken-0.3.1-cp39-cp39-manylinux_2_17_x86_64.manylinux2014_x86_64.whl (1.7 MB)\n",
            "\u001b[2K     \u001b[90m━━━━━━━━━━━━━━━━━━━━━━━━━━━━━━━━━━━━━━━━\u001b[0m \u001b[32m1.7/1.7 MB\u001b[0m \u001b[31m42.8 MB/s\u001b[0m eta \u001b[36m0:00:00\u001b[0m\n",
            "\u001b[?25hRequirement already satisfied: future in /usr/local/lib/python3.9/dist-packages (from ffmpeg-python==0.2.0->openai-whisper==20230314) (0.18.3)\n",
            "Requirement already satisfied: requests>=2.26.0 in /usr/local/lib/python3.9/dist-packages (from tiktoken==0.3.1->openai-whisper==20230314) (2.27.1)\n",
            "Requirement already satisfied: regex>=2022.1.18 in /usr/local/lib/python3.9/dist-packages (from tiktoken==0.3.1->openai-whisper==20230314) (2022.10.31)\n",
            "Requirement already satisfied: lit in /usr/local/lib/python3.9/dist-packages (from triton==2.0.0->openai-whisper==20230314) (16.0.0)\n",
            "Requirement already satisfied: cmake in /usr/local/lib/python3.9/dist-packages (from triton==2.0.0->openai-whisper==20230314) (3.25.2)\n",
            "Requirement already satisfied: filelock in /usr/local/lib/python3.9/dist-packages (from triton==2.0.0->openai-whisper==20230314) (3.10.7)\n",
            "Requirement already satisfied: llvmlite<0.40,>=0.39.0dev0 in /usr/local/lib/python3.9/dist-packages (from numba->openai-whisper==20230314) (0.39.1)\n",
            "Requirement already satisfied: setuptools in /usr/local/lib/python3.9/dist-packages (from numba->openai-whisper==20230314) (67.6.1)\n",
            "Requirement already satisfied: sympy in /usr/local/lib/python3.9/dist-packages (from torch->openai-whisper==20230314) (1.11.1)\n",
            "Requirement already satisfied: networkx in /usr/local/lib/python3.9/dist-packages (from torch->openai-whisper==20230314) (3.0)\n",
            "Requirement already satisfied: jinja2 in /usr/local/lib/python3.9/dist-packages (from torch->openai-whisper==20230314) (3.1.2)\n",
            "Requirement already satisfied: typing-extensions in /usr/local/lib/python3.9/dist-packages (from torch->openai-whisper==20230314) (4.5.0)\n",
            "Requirement already satisfied: idna<4,>=2.5 in /usr/local/lib/python3.9/dist-packages (from requests>=2.26.0->tiktoken==0.3.1->openai-whisper==20230314) (3.4)\n",
            "Requirement already satisfied: urllib3<1.27,>=1.21.1 in /usr/local/lib/python3.9/dist-packages (from requests>=2.26.0->tiktoken==0.3.1->openai-whisper==20230314) (1.26.15)\n",
            "Requirement already satisfied: charset-normalizer~=2.0.0 in /usr/local/lib/python3.9/dist-packages (from requests>=2.26.0->tiktoken==0.3.1->openai-whisper==20230314) (2.0.12)\n",
            "Requirement already satisfied: certifi>=2017.4.17 in /usr/local/lib/python3.9/dist-packages (from requests>=2.26.0->tiktoken==0.3.1->openai-whisper==20230314) (2022.12.7)\n",
            "Requirement already satisfied: MarkupSafe>=2.0 in /usr/local/lib/python3.9/dist-packages (from jinja2->torch->openai-whisper==20230314) (2.1.2)\n",
            "Requirement already satisfied: mpmath>=0.19 in /usr/local/lib/python3.9/dist-packages (from sympy->torch->openai-whisper==20230314) (1.3.0)\n",
            "Building wheels for collected packages: openai-whisper\n",
            "  Building wheel for openai-whisper (pyproject.toml) ... \u001b[?25l\u001b[?25hdone\n",
            "  Created wheel for openai-whisper: filename=openai_whisper-20230314-py3-none-any.whl size=796955 sha256=44670176fbb9e355062c236f88ecf023fb211c9f6f7394a91429697986b21722\n",
            "  Stored in directory: /tmp/pip-ephem-wheel-cache-il2dfzi3/wheels/fe/03/29/e7919208d11b4ab32972cb448bb84a9a675d92cd52c9a48341\n",
            "Successfully built openai-whisper\n",
            "Installing collected packages: ffmpeg-python, tiktoken, openai-whisper\n",
            "Successfully installed ffmpeg-python-0.2.0 openai-whisper-20230314 tiktoken-0.3.1\n"
          ]
        }
      ]
    },
    {
      "cell_type": "code",
      "source": [
        "!pip install yt-dlp"
      ],
      "metadata": {
        "colab": {
          "base_uri": "https://localhost:8080/"
        },
        "id": "qUB_3u0KRfZx",
        "outputId": "55de3a4a-8dab-4c0f-84d2-f7a4f9164545"
      },
      "execution_count": 2,
      "outputs": [
        {
          "output_type": "stream",
          "name": "stdout",
          "text": [
            "Looking in indexes: https://pypi.org/simple, https://us-python.pkg.dev/colab-wheels/public/simple/\n",
            "Collecting yt-dlp\n",
            "  Downloading yt_dlp-2023.3.4-py2.py3-none-any.whl (2.9 MB)\n",
            "\u001b[2K     \u001b[90m━━━━━━━━━━━━━━━━━━━━━━━━━━━━━━━━━━━━━━━━\u001b[0m \u001b[32m2.9/2.9 MB\u001b[0m \u001b[31m63.2 MB/s\u001b[0m eta \u001b[36m0:00:00\u001b[0m\n",
            "\u001b[?25hCollecting pycryptodomex\n",
            "  Downloading pycryptodomex-3.17-cp35-abi3-manylinux_2_17_x86_64.manylinux2014_x86_64.whl (2.1 MB)\n",
            "\u001b[2K     \u001b[90m━━━━━━━━━━━━━━━━━━━━━━━━━━━━━━━━━━━━━━━━\u001b[0m \u001b[32m2.1/2.1 MB\u001b[0m \u001b[31m94.2 MB/s\u001b[0m eta \u001b[36m0:00:00\u001b[0m\n",
            "\u001b[?25hCollecting websockets\n",
            "  Downloading websockets-11.0-cp39-cp39-manylinux_2_5_x86_64.manylinux1_x86_64.manylinux_2_17_x86_64.manylinux2014_x86_64.whl (129 kB)\n",
            "\u001b[2K     \u001b[90m━━━━━━━━━━━━━━━━━━━━━━━━━━━━━━━━━━━━━━\u001b[0m \u001b[32m129.5/129.5 KB\u001b[0m \u001b[31m15.8 MB/s\u001b[0m eta \u001b[36m0:00:00\u001b[0m\n",
            "\u001b[?25hRequirement already satisfied: certifi in /usr/local/lib/python3.9/dist-packages (from yt-dlp) (2022.12.7)\n",
            "Collecting mutagen\n",
            "  Downloading mutagen-1.46.0-py3-none-any.whl (193 kB)\n",
            "\u001b[2K     \u001b[90m━━━━━━━━━━━━━━━━━━━━━━━━━━━━━━━━━━━━━━\u001b[0m \u001b[32m193.6/193.6 KB\u001b[0m \u001b[31m20.4 MB/s\u001b[0m eta \u001b[36m0:00:00\u001b[0m\n",
            "\u001b[?25hCollecting brotli\n",
            "  Downloading Brotli-1.0.9-cp39-cp39-manylinux1_x86_64.whl (357 kB)\n",
            "\u001b[2K     \u001b[90m━━━━━━━━━━━━━━━━━━━━━━━━━━━━━━━━━━━━━━\u001b[0m \u001b[32m357.2/357.2 KB\u001b[0m \u001b[31m42.8 MB/s\u001b[0m eta \u001b[36m0:00:00\u001b[0m\n",
            "\u001b[?25hInstalling collected packages: brotli, websockets, pycryptodomex, mutagen, yt-dlp\n",
            "Successfully installed brotli-1.0.9 mutagen-1.46.0 pycryptodomex-3.17 websockets-11.0 yt-dlp-2023.3.4\n"
          ]
        }
      ]
    },
    {
      "cell_type": "code",
      "source": [
        "import yt_dlp\n",
        "import whisper"
      ],
      "metadata": {
        "id": "imGScvwhRlLt"
      },
      "execution_count": 3,
      "outputs": []
    },
    {
      "cell_type": "code",
      "source": [
        "# YouTubeの動画URLを設定\n",
        "youtube_url = \"https://www.youtube.com/watch?v=arj7oStGLkU\"\n",
        "\n",
        "# YouTube動画のタイトルとIDを取得\n",
        "info = yt_dlp.YoutubeDL().extract_info(url=youtube_url, download=False)\n",
        "video_id = info['id']\n",
        "\n",
        "# 動画をダウンロードし、mp3に変換\n",
        "yt_dlp_options = {\n",
        "    'format': 'bestaudio/best',\n",
        "    'outtmpl': video_id,\n",
        "    'postprocessors': [{\n",
        "        'key': 'FFmpegExtractAudio',\n",
        "        'preferredcodec': 'mp3',\n",
        "        'preferredquality': '192',\n",
        "    }],\n",
        "}\n",
        "\n",
        "with yt_dlp.YoutubeDL(yt_dlp_options) as ydl:\n",
        "    ydl.download([youtube_url])\n",
        "\n",
        "# baseモデルを読み込む\n",
        "model = whisper.load_model(\"base\")\n",
        "\n",
        "# 文字起こしを行う\n",
        "result = model.transcribe(video_id + \".mp3\",verbose=True)"
      ],
      "metadata": {
        "colab": {
          "base_uri": "https://localhost:8080/"
        },
        "id": "HJnrKnuSRvhK",
        "outputId": "7cf867cb-1e79-408e-88fb-24a25dc17fdc"
      },
      "execution_count": 4,
      "outputs": [
        {
          "output_type": "stream",
          "name": "stdout",
          "text": [
            "[youtube] Extracting URL: https://www.youtube.com/watch?v=arj7oStGLkU\n",
            "[youtube] arj7oStGLkU: Downloading webpage\n",
            "[youtube] arj7oStGLkU: Downloading android player API JSON\n",
            "[youtube] Extracting URL: https://www.youtube.com/watch?v=arj7oStGLkU\n",
            "[youtube] arj7oStGLkU: Downloading webpage\n",
            "[youtube] arj7oStGLkU: Downloading android player API JSON\n",
            "[info] arj7oStGLkU: Downloading 1 format(s): 251\n",
            "[dashsegments] Total fragments: 2\n",
            "[download] Destination: arj7oStGLkU\n",
            "[download] 100% of   12.42MiB in 00:00:00 at 45.27MiB/s              \n",
            "[ExtractAudio] Destination: arj7oStGLkU.mp3\n",
            "Deleting original file arj7oStGLkU (pass -k to keep)\n"
          ]
        },
        {
          "output_type": "stream",
          "name": "stderr",
          "text": [
            "100%|████████████████████████████████████████| 139M/139M [00:01<00:00, 104MiB/s]\n"
          ]
        },
        {
          "output_type": "stream",
          "name": "stdout",
          "text": [
            "Detecting language using up to the first 30 seconds. Use `--language` to specify the language\n",
            "Detected language: English\n",
            "[00:00.000 --> 00:19.520]  So in college, I was a government major, which means I had to write a lot of papers.\n",
            "[00:19.520 --> 00:23.920]  Now when a normal student writes a paper, they might spread the work out a little like this.\n",
            "[00:23.920 --> 00:29.560]  So you know, you get started maybe a little slowly, but you get enough done in the first\n",
            "[00:29.560 --> 00:33.960]  week that was some heavier days later on. Everything gets done and things taste civil.\n",
            "[00:35.800 --> 00:41.800]  And I would want to do that like that. That would be the plan. I would have it all ready to go,\n",
            "[00:41.800 --> 00:45.400]  but then that's actually the paper would come along and then I would kind of do this.\n",
            "[00:48.600 --> 00:55.400]  And that would happen every single paper. But then came my 90-page senior thesis.\n",
            "[00:55.480 --> 01:00.520]  A paper you're supposed to spend a year on. I knew for a paper like that my normal workflow\n",
            "[01:00.520 --> 01:05.560]  was not an option. It was way too big a project. So I planned things out and I decided I kind of\n",
            "[01:05.560 --> 01:11.880]  had to go something like this. This is how the year would go. So I'd start off light and I'd bump\n",
            "[01:11.880 --> 01:16.680]  it up in the middle months. And then at the end I would kick it up into high gears. Just a little\n",
            "[01:16.680 --> 01:24.760]  staircase. How hard can I just walk up the stairs? No big deal, right? But then funniest thing happened.\n",
            "[01:24.760 --> 01:30.200]  Those first few months that came and went and I couldn't quite do stuff. So we had an awesome\n",
            "[01:30.200 --> 01:40.040]  new revised plan. And then those middle months actually went by and I didn't really write words.\n",
            "[01:40.760 --> 01:47.960]  And so we were here. And then two months turned into one month. She turned into two weeks. And one\n",
            "[01:47.960 --> 01:56.040]  day I woke up with three days until the deadline. Still not having written a word. And so I did the\n",
            "[01:56.040 --> 02:02.680]  only thing I could. I wrote 90 pages over 72 hours, pulling not one but two all-nighters. Humans\n",
            "[02:02.680 --> 02:09.960]  are not supposed to pull two all-nighters. Sprinted across campus, dove in slow motion and\n",
            "[02:09.960 --> 02:14.520]  guided in just at the deadline. I thought that was the end of everything. But a week later I get a\n",
            "[02:14.520 --> 02:21.480]  call. It's the school. And they say, is this Tim urban? And I say, yeah. And they say, we need\n",
            "[02:21.480 --> 02:28.440]  to talk about your thesis. And I say, okay. And they say, that's the one we've ever seen.\n",
            "[02:36.920 --> 02:43.080]  That did not happen. It was a very, very bad thesis.\n",
            "[02:45.240 --> 02:51.080]  I just wanted to enjoy that one moment when all of you thought, this guy is amazing.\n",
            "[02:52.680 --> 03:00.520]  No, no, it was very, very bad. Anyway, today I'm a writer, blogger guy. I write the blog, wait, but why?\n",
            "[03:00.520 --> 03:05.000]  And a couple of years ago I decided to write about procrastination. My behavior is always\n",
            "[03:05.000 --> 03:09.720]  perplexed the non-procrastinators around me. And I wanted to explain to the non-procrastinators\n",
            "[03:09.720 --> 03:14.120]  of the world what goes on in the heads of procrastinators and why we are the way we are.\n",
            "[03:14.120 --> 03:19.800]  Now, I had a hypothesis that the brains of procrastinators were actually different than the brains\n",
            "[03:19.800 --> 03:26.360]  of other people. And to test this, I found an MRI lab that actually let me scan both my brain\n",
            "[03:26.360 --> 03:31.240]  and the brain of a proven non-procrastinator. And so I could compare them. And I actually brought\n",
            "[03:31.240 --> 03:34.760]  them here to show you today. And I want you to take a look carefully to see if you can notice\n",
            "[03:34.760 --> 03:38.520]  a difference. And I know that if you're not a trained brain expert, it's not that obvious,\n",
            "[03:38.520 --> 03:42.440]  but just take a look. Okay? So here's the brain of a non-procrastinator.\n",
            "[03:46.120 --> 03:49.320]  Now, here's my brain.\n",
            "[03:55.640 --> 04:00.200]  There is a difference. Both brains have a rational decision maker, and then\n",
            "[04:00.200 --> 04:05.800]  the procrastinators brain also has an instant gratification monkey. Now, what does this mean for\n",
            "[04:05.800 --> 04:09.560]  the procrastinator? Well, it means everything's fine until this happens.\n",
            "[04:12.040 --> 04:17.240]  So the rational decision maker will make the rational decision to do something productive,\n",
            "[04:17.240 --> 04:21.640]  but the monkey doesn't like that plan. So he actually takes the wheel, and he says,\n",
            "[04:21.640 --> 04:25.720]  actually, let's read the entire Wikipedia page of the Nancy Kerrigan time you're harding scandal,\n",
            "[04:25.720 --> 04:32.680]  because I just remember that that happened. Then we're going to go over to the fridge. We're\n",
            "[04:32.680 --> 04:36.440]  going to see if there's anything new in there since 10 minutes ago. After that,\n",
            "[04:37.480 --> 04:42.120]  we're going to go on a YouTube spiral that starts with videos of Richard Feynman talking about\n",
            "[04:42.120 --> 04:46.520]  magnets and ends much, much later with us watching interviews with Justin Bieber's mom.\n",
            "[04:49.240 --> 04:53.080]  All of that's going to take a while, so we're not going to really have room on the schedule for\n",
            "[04:53.080 --> 05:01.240]  any work today. Sorry. Now, what is going on here?\n",
            "[05:03.400 --> 05:07.560]  The instant gratification monkey does not seem like a guy you want behind the wheel. He lives\n",
            "[05:07.560 --> 05:12.280]  entirely in the present moment. He has no memory of the past, no knowledge of the future,\n",
            "[05:12.280 --> 05:19.400]  and he only cares about two things. Easy and fun. Now, in the animal world, that works fine.\n",
            "[05:19.400 --> 05:23.320]  If you're a dog and you spend your whole life doing nothing other than easy and fun,\n",
            "[05:23.320 --> 05:31.880]  things, you're a huge success. And to the monkey, humans are just another animal species.\n",
            "[05:31.880 --> 05:35.640]  He has to keep well slept, well fed, and propagating into the next generation.\n",
            "[05:36.440 --> 05:41.080]  Which in tribal times might have worked okay, but if you haven't noticed, now we're not in tribal\n",
            "[05:41.080 --> 05:45.880]  times. We're in an advanced civilization, and the monkey does not know what that is.\n",
            "[05:45.880 --> 05:49.720]  Which is why we have another guy in our brain, the rational decision maker,\n",
            "[05:50.520 --> 05:55.800]  who give us the ability to do things no other animal can do. We can visualize the future. We can\n",
            "[05:55.800 --> 06:00.760]  see the big picture. We can make long-term plans, and he wants to take all of that into account.\n",
            "[06:02.040 --> 06:06.680]  And he wants to just have us do whatever makes sense to be doing right now.\n",
            "[06:06.680 --> 06:11.000]  Now, sometimes it makes sense to be doing things that are easy and fun. Like when you're having\n",
            "[06:11.000 --> 06:15.720]  dinner or going to bed or enjoying well or in leisure time, that's why there's an overlap.\n",
            "[06:15.720 --> 06:22.520]  Sometimes they agree. But other times, it makes much more sense to be doing things that are\n",
            "[06:22.520 --> 06:27.080]  harder and less pleasant for the sake of the big picture. And that's when we have a conflict.\n",
            "[06:27.960 --> 06:31.800]  And for the procrastinator, that conflict tends to end a certain way every time,\n",
            "[06:31.800 --> 06:38.200]  leaving him spending a lot of time in this orange zone, an easy and fun place that's entirely\n",
            "[06:38.200 --> 06:41.720]  out of the makes sense circle. I call it the dark playground.\n",
            "[06:43.960 --> 06:49.960]  Now, the dark playground is a place that all of you procrastinators out there know very well.\n",
            "[06:50.760 --> 06:55.080]  It's where leisure activities happen at times when leisure activities are not supposed to be\n",
            "[06:55.080 --> 06:59.640]  happening. The fun you have in the dark playground isn't actually fun because it's completely\n",
            "[06:59.640 --> 07:05.240]  unearned and the air is filled with guilt, dread, anxiety, self-hatred, all those good procrastinator\n",
            "[07:05.240 --> 07:10.280]  feelings. And the question is, in this situation, with the monkey behind the wheel, how does the\n",
            "[07:10.280 --> 07:15.080]  procrastinator ever get himself over here to this blue zone? A less pleasant place, but we're\n",
            "[07:15.080 --> 07:22.120]  really important things happen. Well, it turns out that the procrastinator has a guardian angel,\n",
            "[07:22.120 --> 07:26.760]  someone who's always looking down on him and watching over him in his darkest moments.\n",
            "[07:26.760 --> 07:28.760]  Someone called the panic monster.\n",
            "[07:34.360 --> 07:42.360]  Now, the panic monster is dormant most of the time, but it suddenly wakes up. Anytime a deadline\n",
            "[07:42.360 --> 07:46.920]  gets too close or there's danger of public embarrassment, a career disaster or some other scary\n",
            "[07:46.920 --> 07:52.200]  consequence. And importantly, he's the only thing that the monkey is terrified of. Now,\n",
            "[07:52.840 --> 07:58.040]  he became very relevant in my life pretty recently because the people of Ted\n",
            "[07:58.040 --> 08:01.400]  reached out to me about six months ago and invited me to do a Ted talk.\n",
            "[08:07.000 --> 08:12.440]  Now, of course, I said, yes, it's always been a dream of mine to have done a Ted talk in the past.\n",
            "[08:17.080 --> 08:27.080]  But in the middle of all this excitement, the rational decision-maker seemed to have something\n",
            "[08:27.080 --> 08:33.960]  else in his mind. He was saying, we clear on what we just accepted. Do we get what's going to be\n",
            "[08:33.960 --> 08:38.200]  now happening one day in the future? We need to sit down and work on this right now. And the monkey\n",
            "[08:38.200 --> 08:42.440]  said, totally agree, but also let's just open Google Earth and let zoom into the bottom of India,\n",
            "[08:42.440 --> 08:45.960]  like 200 feet above the ground, and we're going to scroll up two and a half hours until we get to\n",
            "[08:45.960 --> 08:56.360]  the top of the country so we can get a better feel for India. So that's what we did that day.\n",
            "[09:00.680 --> 09:06.600]  As six months turned into four and then two and then one, the people of Ted decided to release\n",
            "[09:06.600 --> 09:11.800]  the speakers. And I opened up the website and there was my face staring right back at me and\n",
            "[09:11.880 --> 09:20.840]  guess who woke up. So the panic monster starts losing his mind and a few seconds later,\n",
            "[09:20.840 --> 09:29.880]  the whole system's in Mayhem. And the monkey who remember, he's terrified of the panic monster,\n",
            "[09:29.880 --> 09:35.640]  boom, he's up the tree. And finally, finally, the rational decision-maker can take the wheel and\n",
            "[09:35.640 --> 09:42.120]  I can start working on the talk. Now, the panic monster explains all kinds of pretty insane\n",
            "[09:42.120 --> 09:47.720]  procrastinated behavior like how someone like me could spend two weeks unable to start the opening\n",
            "[09:47.720 --> 09:53.560]  sentence of a paper and then miraculously find the unbelievable work ethic to stay up all night\n",
            "[09:53.560 --> 10:00.840]  and write eight pages. And this entire situation with the three characters, this is the procrastinator's\n",
            "[10:00.840 --> 10:07.640]  system. It's not pretty, but in the end, it works. And this is what I decided to write about on the\n",
            "[10:07.640 --> 10:13.400]  blog just a couple years ago. Now, when I did, I was amazed by the response. Literally thousands\n",
            "[10:13.400 --> 10:17.560]  of emails came in from all different kinds of people from all over the world doing all different\n",
            "[10:17.560 --> 10:22.360]  kinds of things. These were people who were nurses and bankers and painters and engineers and\n",
            "[10:22.360 --> 10:30.120]  lots and lots of PhD students. And they were all writing saying the same thing, I have this problem\n",
            "[10:30.120 --> 10:35.640]  too. But what struck me was the contrast between the light tone of the post and the heaviness of\n",
            "[10:35.640 --> 10:41.720]  these emails. These people were writing with intense frustration about what procrastination had\n",
            "[10:41.720 --> 10:49.960]  done to their lives, about what this monkey had done to them. And I thought about this and I said,\n",
            "[10:49.960 --> 10:54.280]  if the procrastinator system works, then what's going on? Why are all these people in such a dark\n",
            "[10:54.280 --> 11:00.680]  place? Well, it turns out that there's two kinds of procrastination. Everything I've talked about\n",
            "[11:00.680 --> 11:04.680]  today, the examples I've given, they all have deadlines. And when there's deadlines, the effects of\n",
            "[11:04.680 --> 11:09.720]  procrastination are contained to the short term because the panic monster gets involved. But there's\n",
            "[11:09.720 --> 11:15.160]  a second kind of procrastination that happens in situations when there is no deadline. So if you\n",
            "[11:15.160 --> 11:19.720]  want to have a career, you want to be a self starter, something in the arts, something entrepreneurial,\n",
            "[11:19.720 --> 11:24.040]  there's no deadlines on those things at first. Because nothing's happening at first, not until you've\n",
            "[11:24.040 --> 11:28.120]  gone out and done the hard work to get some momentum to get things going. There's also all kinds of\n",
            "[11:28.120 --> 11:32.280]  important things outside of your career that don't involve any deadlines, like seeing your family,\n",
            "[11:32.280 --> 11:37.240]  or exercising and taking care of your health, working on your relationship, or getting out of\n",
            "[11:37.240 --> 11:43.720]  a relationship that isn't working. Now, if the procrastinator's only mechanism of doing these\n",
            "[11:43.720 --> 11:48.600]  hard things is the panic monster, that's a problem because in all of these non-deadline situations,\n",
            "[11:49.320 --> 11:53.560]  the panic monster doesn't show up. He has nothing to wake up for. So the effects of procrastination,\n",
            "[11:53.560 --> 12:00.360]  they're not contained. They just extend outward forever. And it's this long term kind of procrastination\n",
            "[12:00.360 --> 12:06.600]  that's much less visible and much less talked about than the funnier short term deadline-based kind.\n",
            "[12:06.600 --> 12:13.160]  It's usually suffered quietly and privately. And it can be the source of a huge amount of long term\n",
            "[12:13.160 --> 12:19.640]  unhappiness and regrets. And I thought, you know, that's why these people are emailing and that's\n",
            "[12:19.640 --> 12:25.720]  why they're in such a bad place. It's not that they're cramming for some project. It's that long-term\n",
            "[12:25.720 --> 12:30.840]  procrastination has made them feel like a spectator at times in their own lives. You know, the\n",
            "[12:30.840 --> 12:35.320]  frustration was not that they couldn't achieve their dreams, is that they weren't even able to start\n",
            "[12:35.320 --> 12:43.400]  chasing them. So I read these emails and I had a little bit of an epiphany that I don't think\n",
            "[12:43.480 --> 12:50.280]  non-procrastinator is exist. That's right. I think all of you are procrastinators. Now you might\n",
            "[12:50.280 --> 12:57.960]  not all be a mess like some of us. And some of you may have a healthy relationship with deadlines.\n",
            "[12:57.960 --> 13:03.800]  But remember, the monkey's sneakiest trick is when the deadlines aren't there. Now I want to show you\n",
            "[13:03.800 --> 13:12.280]  one last thing. I call this a life calendar. That's one box for every week of a 90-year life.\n",
            "[13:13.400 --> 13:19.480]  That's not that many boxes, especially since we've already used a bunch of those. So I think we\n",
            "[13:19.480 --> 13:26.680]  need to all take a long hard look at that calendar. And we need to think about what we're really\n",
            "[13:26.680 --> 13:33.720]  procrastinating on because everyone is procrastinating on something in life. We need to stay aware\n",
            "[13:33.720 --> 13:41.800]  of the instant gratification monkey. That's a job for all of us. And because there's not that many\n",
            "[13:41.800 --> 13:50.200]  boxes on there at the job that should probably start today. Well, it may not today, but you know,\n",
            "[13:51.560 --> 14:00.200]  sometimes soon. Thank you.\n"
          ]
        }
      ]
    }
  ]
}